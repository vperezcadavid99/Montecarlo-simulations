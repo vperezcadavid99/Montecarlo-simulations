{
 "cells": [
  {
   "cell_type": "markdown",
   "metadata": {},
   "source": [
    "## Sucesos Aleatorios: camino del borracho\n",
    "\n",
    "El presente script describe la trayectoria de una persona borracha a partir de un conjunto de pasos lógicos y con una ligadura al número de pasos. Adicionalmente se calcula la probabilidad de llegar a una distancia específica dentro de un total de posibles sucesos."
   ]
  },
  {
   "cell_type": "code",
   "execution_count": 1,
   "metadata": {},
   "outputs": [
    {
     "data": {
      "image/png": "[encoded data removed]",
      "text/plain": [
       "<Figure size 432x288 with 1 Axes>"
      ]
     },
     "metadata": {
      "needs_background": "light"
     },
     "output_type": "display_data"
    }
   ],
   "source": [
    "import numpy as np\n",
    "import matplotlib.pyplot as plt\n",
    "\n",
    "\n",
    "# Graficar la trayectoria del borracho \n",
    "# Calcular la probabilidad de que llegue a las 2 cuadras\n",
    "# 50 es el número de pasos\n",
    "\n",
    "posx = [0]\n",
    "posy = [0] \n",
    "\n",
    "N = 50\n",
    "\n",
    "\n",
    "while N > 0 :\n",
    "    #for i in range(0,10):\n",
    "        nr = np.random.randint(0,100)\n",
    "\n",
    "        if nr <= 25:\n",
    "            posy.append(posy[0]+1)\n",
    "            posx.append(0)\n",
    "        elif 25 < nr <= 50:\n",
    "            posy.append(posy[0]-1)\n",
    "            posx.append(0)\n",
    "        elif 50 < nr <= 75:\n",
    "            posx.append(posx[0]+1)\n",
    "            posy.append(0)\n",
    "        elif 75 < nr <= 100:\n",
    "            posx.append(posx[0]-1)\n",
    "            posy.append(0)\n",
    "\n",
    "        \n",
    "        N = N-1\n",
    "# Se genera el acumulado y se grafica la posición final\n",
    "newposx = np.cumsum(posx)\n",
    "newposy = np.cumsum(posy)\n",
    "plt.plot(newposx,newposy,'-o')\n",
    "plt.title('Trayectoria')\n",
    "plt.plot(newposx[-1],newposy[-1],'-o', color = 'red')\n",
    "plt.plot(newposx[0],newposy[0],'o',color ='green')\n",
    "plt.xlabel('Posición en x')\n",
    "plt.ylabel('Posición en y')\n",
    "plt.show()\n",
    "\n",
    "\n",
    "\n"
   ]
  },
  {
   "cell_type": "code",
   "execution_count": 2,
   "metadata": {},
   "outputs": [
    {
     "data": {
      "image/png": "[encoded data removed]",
      "text/plain": [
       "<Figure size 432x288 with 1 Axes>"
      ]
     },
     "metadata": {
      "needs_background": "light"
     },
     "output_type": "display_data"
    }
   ],
   "source": [
    "# Encontrar la probabilidad de que el borracho quede a dos cuadras del origen al dar n pasos en 1000 intentos\n",
    "numevent= 1000\n",
    "\n",
    "# Arreglo de casos favorables\n",
    "fav = []\n",
    "# For que permite conseguir los arreglos en posiciones en x y en y para un número de eventos determinado\n",
    "for i in range(0,numevent):\n",
    "    # Arreglo de posiciones\n",
    "    posx = [0]\n",
    "    posy = [0]\n",
    "\n",
    "    # Número de pasos\n",
    "    N = 10\n",
    "\n",
    "\n",
    "    while N > 0 :\n",
    "    \n",
    "        nr = np.random.randint(0,100)\n",
    "\n",
    "        if nr <= 25:\n",
    "            posy.append(posy[0]+1)\n",
    "            posx.append(0)\n",
    "        elif 25 < nr <= 50:\n",
    "            posy.append(posy[0]-1)\n",
    "            posx.append(0)\n",
    "        elif 50 < nr <= 75:\n",
    "            posx.append(posx[0]+1)\n",
    "            posy.append(0)\n",
    "        elif 75 < nr <= 100:\n",
    "            posx.append(posx[0]-1)\n",
    "            posy.append(0)\n",
    "\n",
    "        \n",
    "        N = N-1\n",
    "    # Se genera el acumulado \n",
    "    newposx = np.cumsum(posx)\n",
    "    newposy = np.cumsum(posy)\n",
    "\n",
    "    # Condición de que quede a dos cuadras del origen\n",
    "    if np.abs( newposx[ -1 ] ) + np.abs( newposy[ -1 ] ) == 2 :\n",
    "        fav.append( 1 )\n",
    "    else:\n",
    "        fav.append( 0 )\n",
    "\n",
    "# Cálculo de la probabilidad: #favorables/#posibles\n",
    "prob = np.cumsum(fav)/np.arange(1,len(fav)+1)\n",
    "#prob = len(fav)/\n",
    "\n",
    "plt.plot(np.arange(1,len(fav)+1),prob)\n",
    "\n",
    "plt.title('Gráfica de Probabilidad')\n",
    "plt.xlabel('Intentos')\n",
    "plt.ylabel('Probabilidad')\n",
    "plt.show()"
   ]
  },
  {
   "cell_type": "code",
   "execution_count": null,
   "metadata": {},
   "outputs": [],
   "source": []
  }
 ],
 "metadata": {
  "kernelspec": {
   "display_name": "Python 3",
   "language": "python",
   "name": "python3"
  },
  "language_info": {
   "codemirror_mode": {
    "name": "ipython",
    "version": 3
   },
   "file_extension": ".py",
   "mimetype": "text/x-python",
   "name": "python",
   "nbconvert_exporter": "python",
   "pygments_lexer": "ipython3",
   "version": "3.8.3"
  }
 },
 "nbformat": 4,
 "nbformat_minor": 4
}
