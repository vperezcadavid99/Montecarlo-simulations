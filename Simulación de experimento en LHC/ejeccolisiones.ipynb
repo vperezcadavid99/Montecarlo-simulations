{
 "cells": [
  {
   "cell_type": "code",
   "execution_count": null,
   "metadata": {},
   "outputs": [],
   "source": [
    "import colisiones as p22\n",
    "import matplotlib.pyplot as plt\n",
    "import numpy as np\n",
    "\n",
    "# Inicialización.\n",
    "if __name__=='__main__':\n",
    "    print('Inicialización')\n",
    "\n",
    "# Creación de objeto\n",
    "N = 10000\n",
    "acelerador = p22.LHC(100,10,10000)\n",
    "experimento = acelerador.Random_position()\n",
    "experimento1 = acelerador.choque()\n",
    "\n",
    "intentos = np.linspace(0,N,len(experimento1))\n",
    "plt.plot(intentos, experimento1)\n",
    "plt.title(\"Probabilidad de colisión con R = 100 y r= 10 en 10mil intentos\")\n",
    "plt.xlabel(\"Intentos\")\n",
    "plt.ylabel(\"Probabilidad\")\n",
    "plt.show()"
   ]
  }
 ],
 "metadata": {
  "kernelspec": {
   "display_name": "Python 3",
   "language": "python",
   "name": "python3"
  },
  "language_info": {
   "codemirror_mode": {
    "name": "ipython",
    "version": 3
   },
   "file_extension": ".py",
   "mimetype": "text/x-python",
   "name": "python",
   "nbconvert_exporter": "python",
   "pygments_lexer": "ipython3",
   "version": "3.8.3"
  }
 },
 "nbformat": 4,
 "nbformat_minor": 4
}
