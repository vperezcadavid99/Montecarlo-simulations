{
 "cells": [
  {
   "cell_type": "markdown",
   "metadata": {},
   "source": [
    "## Simulador de colisiones en el LHC\n",
    "\n",
    "En el siguiente script se realiza la simulación por montecarlo de un experimento de colisión de partículas en el \"Large Hadron Collider\" (LCH) calculando las probabilidad de colisión para diferentes eventos, teniendo en cuenta diferentes valores del radio de la partícula.\n",
    "\n",
    "El sistema se restringe a los siguientes parámetros:\n",
    "\n",
    "* Radio de la partícula r.\n",
    "* Radio del cilindro de colisionado R.\n",
    "* El experimento no será lineal."
   ]
  },
  {
   "cell_type": "code",
   "execution_count": null,
   "metadata": {},
   "outputs": [],
   "source": [
    "import numpy as np\n",
    "\n",
    "# Se define la clase LHC\n",
    "class LHC:\n",
    "    \n",
    "    def __init__(self,R,r,N): \n",
    "        self.R=R # Radio del colisionador\n",
    "        self.r=r # Radio de las partículas\n",
    "        self.N=N # Número de experimentos\n",
    "    \n",
    "    # Método para generar posiciones aleatorias dentro de la zona de interés\n",
    "\n",
    "    def Random_position( self ):\n",
    "        \n",
    "        self.x1 = []\n",
    "        self.y1 = []\n",
    "        self.x2 = []\n",
    "        self.y2 = []\n",
    "\n",
    "        for i in range (0,self.N):\n",
    "            self.x1.append(np.random.uniform(-(self.R - self.r), self.R - self.r))\n",
    "            self.y1.append(np.random.uniform(-(self.R - self.r), self.R - self.r))\n",
    "            self.x2.append(np.random.uniform(-(self.R - self.r), self.R - self.r))\n",
    "            self.y2.append(np.random.uniform(-(self.R - self.r), self.R - self.r))\n",
    "\n",
    "        return self.x1,self.y1,self.x2,self.y2\n",
    "\n",
    "    # Método para calcular la probabilidad de choque\n",
    "\n",
    "    def choque( self ):\n",
    "\n",
    "        num_choques  = []\n",
    "        probabilidad = []\n",
    "        \n",
    "        for m in range( 0, self.N ):\n",
    "\n",
    "            distancia = np.sqrt( (self.x1[m]-self.x2[m])**2 + (self.y1[m]-self.y2[m])**2 )\n",
    "             \n",
    "            if ( distancia <= 2*self.r ):\n",
    "                num_choques.append(1)\n",
    "            else:\n",
    "                num_choques.append(0)\n",
    "\n",
    "            prob = sum( num_choques )/ len( num_choques )\n",
    "            probabilidad.append(prob)\n",
    "\n",
    "        return probabilidad\n",
    "\n"
   ]
  }
 ],
 "metadata": {
  "kernelspec": {
   "display_name": "Python 3",
   "language": "python",
   "name": "python3"
  },
  "language_info": {
   "codemirror_mode": {
    "name": "ipython",
    "version": 3
   },
   "file_extension": ".py",
   "mimetype": "text/x-python",
   "name": "python",
   "nbconvert_exporter": "python",
   "pygments_lexer": "ipython3",
   "version": "3.8.3"
  }
 },
 "nbformat": 4,
 "nbformat_minor": 4
}
